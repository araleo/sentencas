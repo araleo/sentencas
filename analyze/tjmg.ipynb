{
 "cells": [
  {
   "cell_type": "code",
   "execution_count": null,
   "metadata": {},
   "outputs": [],
   "source": [
    "import pandas as pd\n",
    "import matplotlib.pyplot as plt"
   ]
  },
  {
   "cell_type": "code",
   "execution_count": null,
   "metadata": {},
   "outputs": [],
   "source": [
    "OUT_CSV_NAMES = [\"full_id\", \"crime_type\", \"crime_confidence\", \"result_type\", \"result_confidence\"]\n",
    "RAW_CSV_NAMES = [\"court\", \"old_num\", \"cnj_num\", \"judge\", \"pub_date\", \"full_id\", \"file_id\", \"file_hash\", \"url\"]\n",
    "CLASSIFIED_DATA_NAMES = [\"full_id\", \"court\", \"cnj_num\", \"judge\", \"pub_date\", \"crime_type\", \"crime_confidence\", \"result_type\", \"result_confidence\"]\n",
    "\n",
    "CRIME_TYPES = {\"None\": \"Não Classificada\", \"1\": \"Outros Crimes\", \"2\": \"Crime Patrimonial\"}\n",
    "RESULT_TYPES = {\"None\": \"Não Classificada\", \"1\": \"Condenatória\", \"2\": \"Absolutória\", \"3\": \"Neutra\"}\n",
    "\n",
    "COLORS = {\n",
    "    \"Não Classificada\": \"Gray\",\n",
    "    \"Outros Crimes\": \"C5\",\n",
    "    \"Crime Patrimonial\": \"C8\",\n",
    "    \"Condenatória\": \"C3\",\n",
    "    \"Absolutória\": \"C2\",\n",
    "    \"Neutra\": \"C1\",\n",
    "}\n",
    "CRIME_COLORS = [\"Gray\", \"C5\", \"C8\"]\n",
    "RESULT_COLORS = [\"Gray\", \"C1\", \"C2\", \"C3\"]"
   ]
  },
  {
   "cell_type": "code",
   "execution_count": null,
   "metadata": {},
   "outputs": [],
   "source": [
    "classified = pd.read_csv(\"../data/output.csv\", sep=\";\", names=OUT_CSV_NAMES)\n",
    "df = pd.read_csv(\"../data/data.csv\", sep=\";\", names=RAW_CSV_NAMES)\n",
    "df = df.drop_duplicates(subset=[\"full_id\"])\n",
    "df = df[df[\"full_id\"].isin(classified[\"full_id\"])]\n",
    "df = pd.merge(df, classified, how=\"inner\", on=[\"full_id\", \"full_id\"])\n",
    "df = df.filter(CLASSIFIED_DATA_NAMES)\n",
    "df[\"crime_type\"] = df.crime_type.map(CRIME_TYPES)\n",
    "df[\"result_type\"] = df.result_type.map(RESULT_TYPES)\n",
    "df[\"pub_date\"] = pd.to_datetime(df[\"pub_date\"], format=\"%d/%m/%Y\")\n",
    "df[\"year_month\"] = df[\"pub_date\"].map(lambda fulldate : fulldate.strftime(\"%m-%Y\"))\n",
    "df = df.replace(\"None\", 0.0)\n",
    "df = df.astype({\"result_confidence\": float})\n",
    "df.head()"
   ]
  },
  {
   "cell_type": "code",
   "execution_count": null,
   "metadata": {},
   "outputs": [],
   "source": [
    "MIN_DATE = min(df[\"pub_date\"])\n",
    "MAX_DATE = max(df[\"pub_date\"])"
   ]
  },
  {
   "cell_type": "code",
   "execution_count": null,
   "metadata": {},
   "outputs": [],
   "source": [
    "def plot_bar_and_pie(df_series, title, colors):\n",
    "    fig, axes = plt.subplots(nrows=2, figsize=(12,12))\n",
    "    fig.suptitle(get_title_with_dates(title))\n",
    "    ax = df_series.value_counts().sort_values().plot(ax=axes[0], kind=\"bar\", rot=0)\n",
    "    ax.bar_label(ax.containers[0])\n",
    "    df_series.value_counts().sort_values().plot.pie(ax=axes[1], autopct=\"%1.0f%%\", colors=colors)\n",
    "    axes[1].set_ylabel(\"\");"
   ]
  },
  {
   "cell_type": "code",
   "execution_count": null,
   "metadata": {},
   "outputs": [],
   "source": [
    "def get_title_with_dates(title, from_date=MIN_DATE, until_date=MAX_DATE):\n",
    "    return f\"{title} - {from_date.year} a {until_date.year}\""
   ]
  },
  {
   "cell_type": "code",
   "execution_count": null,
   "metadata": {},
   "outputs": [],
   "source": [
    "plot_bar_and_pie(df[\"crime_type\"], \"Sentenças Criminais em Belo Horizonte por tipo de crime\", CRIME_COLORS)"
   ]
  },
  {
   "cell_type": "code",
   "execution_count": null,
   "metadata": {},
   "outputs": [],
   "source": [
    "plot_bar_and_pie(df[\"result_type\"], \"Sentenças Criminais em Belo Horizonte por resultado\", RESULT_COLORS)"
   ]
  },
  {
   "cell_type": "code",
   "execution_count": null,
   "metadata": {},
   "outputs": [],
   "source": [
    "patrimoniais = df[df[\"crime_type\"] == \"Crime Patrimonial\"]\n",
    "plot_bar_and_pie(patrimoniais[\"result_type\"], \"Sentenças de Crimes Patrimoniais Por Resultado\", RESULT_COLORS)\n"
   ]
  },
  {
   "cell_type": "code",
   "execution_count": null,
   "metadata": {},
   "outputs": [],
   "source": [
    "outros = df[df[\"crime_type\"] == \"Outros Crimes\"]\n",
    "plot_bar_and_pie(outros[\"result_type\"], \"Sentenças de Crimes Não Patrimoniais Por Resultado\", RESULT_COLORS)"
   ]
  },
  {
   "cell_type": "code",
   "execution_count": null,
   "metadata": {},
   "outputs": [],
   "source": [
    "def plot_court_dist(vara_dist, title):\n",
    "    vara_df = pd.DataFrame(vara_dist).fillna(0).transpose()\n",
    "    vara_df = vara_df[[\"Condenatória\", \"Absolutória\", \"Neutra\", \"Não Classificada\"]]\n",
    "    vara_df = vara_df.div(vara_df.sum(axis=1), axis=0).multiply(100).round()\n",
    "    ax = vara_df.plot.bar(figsize=(16, 9), legend=True, color=RESULT_COLORS[::-1], rot=0, title=title);\n",
    "    ax.grid(\"on\", linewidth=0.3)\n",
    "    for container in ax.containers:\n",
    "        ax.bar_label(container)"
   ]
  },
  {
   "cell_type": "code",
   "execution_count": null,
   "metadata": {},
   "outputs": [],
   "source": [
    "def get_court_dist(df):\n",
    "    vara_dist = {}\n",
    "    for vara in set(df[\"court\"]):\n",
    "        vara_df = df[df[\"court\"] == vara]\n",
    "        vara_dist[vara] = vara_df[\"result_type\"].value_counts()\n",
    "    return vara_dist"
   ]
  },
  {
   "cell_type": "code",
   "execution_count": null,
   "metadata": {},
   "outputs": [],
   "source": [
    "df_varas_1 = df[df[\"court\"].isin([1, 3, 4])]\n",
    "df_varas_2 = df[df[\"court\"].isin([6, 7, 8])]\n",
    "df_varas_3 = df[df[\"court\"].isin([9, 10, 11])]\n",
    "vara_dist_1 = get_court_dist(df_varas_1)\n",
    "vara_dist_2 = get_court_dist(df_varas_2)\n",
    "vara_dist_3 = get_court_dist(df_varas_3)\n",
    "plot_court_dist(vara_dist_1, title=f\"Distribuição do resultado das sentenças por Vara - em % - {MIN_DATE.year} a {MAX_DATE.year}\")\n",
    "plot_court_dist(vara_dist_2, title=f\"Distribuição do resultado das sentenças por Vara - em % - {MIN_DATE.year} a {MAX_DATE.year}\")\n",
    "plot_court_dist(vara_dist_3, title=f\"Distribuição do resultado das sentenças por Vara - em % - {MIN_DATE.year} a {MAX_DATE.year}\")"
   ]
  },
  {
   "cell_type": "code",
   "execution_count": null,
   "metadata": {},
   "outputs": [],
   "source": [
    "patri_varas_1 = patrimoniais[patrimoniais[\"court\"].isin([1, 3, 4])]\n",
    "patri_varas_2 = patrimoniais[patrimoniais[\"court\"].isin([6, 7, 8])]\n",
    "patri_varas_3 = patrimoniais[patrimoniais[\"court\"].isin([9, 10, 11])]\n",
    "patrimoniais_dist_1 = get_court_dist(patri_varas_1)\n",
    "patrimoniais_dist_2 = get_court_dist(patri_varas_2)\n",
    "patrimoniais_dist_3 = get_court_dist(patri_varas_3)\n",
    "plot_court_dist(patrimoniais_dist_1, title=f\"Distribuição do Resultado das Sentenças em Crimes Patrimoniais por Vara - em % - {MIN_DATE.year} a {MAX_DATE.year}\")\n",
    "plot_court_dist(patrimoniais_dist_2, title=f\"Distribuição do Resultado das Sentenças em Crimes Patrimoniais por Vara - em % - {MIN_DATE.year} a {MAX_DATE.year}\")\n",
    "plot_court_dist(patrimoniais_dist_3, title=f\"Distribuição do Resultado das Sentenças em Crimes Patrimoniais por Vara - em % - {MIN_DATE.year} a {MAX_DATE.year}\")"
   ]
  },
  {
   "cell_type": "code",
   "execution_count": null,
   "metadata": {},
   "outputs": [],
   "source": [
    "outros_varas_1 = outros[outros[\"court\"].isin([1, 3, 4])]\n",
    "outros_varas_2 = outros[outros[\"court\"].isin([6, 7, 8])]\n",
    "outros_varas_3 = outros[outros[\"court\"].isin([9, 10, 11])]\n",
    "outros_dist_1 = get_court_dist(outros_varas_1)\n",
    "outros_dist_2 = get_court_dist(outros_varas_2)\n",
    "outros_dist_3 = get_court_dist(outros_varas_3)\n",
    "plot_court_dist(outros_dist_1, title=f\"Distribuição do Resultado das Sentenças em Crimes Não Patrimoniais por Vara - em % - {MIN_DATE.year} a {MAX_DATE.year}\")\n",
    "plot_court_dist(outros_dist_2, title=f\"Distribuição do Resultado das Sentenças em Crimes Não Patrimoniais por Vara - em % - {MIN_DATE.year} a {MAX_DATE.year}\")\n",
    "plot_court_dist(outros_dist_3, title=f\"Distribuição do Resultado das Sentenças em Crimes Não Patrimoniais por Vara - em % - {MIN_DATE.year} a {MAX_DATE.year}\")"
   ]
  },
  {
   "cell_type": "code",
   "execution_count": null,
   "metadata": {},
   "outputs": [],
   "source": [
    "df_judges = df.loc[:, [\"judge\", \"crime_type\", \"result_type\"]]\n",
    "df_judges = df_judges[df_judges[\"result_type\"] != \"Não Classificada\"]\n",
    "df_judges[\"result_type\"] = df_judges[\"result_type\"].map(lambda x : 1 if x == \"Condenatória\" else 0)"
   ]
  },
  {
   "cell_type": "code",
   "execution_count": null,
   "metadata": {},
   "outputs": [],
   "source": [
    "df_judges_all = df_judges[[\"judge\", \"result_type\"]]\n",
    "ax = df_judges_all.groupby(\"judge\") \\\n",
    "                    .mean() \\\n",
    "                    .multiply(100) \\\n",
    "                    .round() \\\n",
    "                    .sort_values(by=\"result_type\", ascending=False) \\\n",
    "                    .plot(kind=\"bar\", figsize=(16, 9), legend=False, title=f\"Média de condenações por Juiz em todos os crimes - de {MIN_DATE.year} a {MAX_DATE.year}\")\n",
    "ax.bar_label(ax.containers[0]);"
   ]
  },
  {
   "cell_type": "code",
   "execution_count": null,
   "metadata": {},
   "outputs": [],
   "source": [
    "df_judges_patri = df_judges[df_judges[\"crime_type\"] == \"Crime Patrimonial\"]\n",
    "df_judges_patri = df_judges_patri[[\"judge\", \"result_type\"]]\n",
    "ax = df_judges_patri.groupby(\"judge\") \\\n",
    "                    .mean() \\\n",
    "                    .multiply(100) \\\n",
    "                    .round() \\\n",
    "                    .sort_values(by=\"result_type\", ascending=False) \\\n",
    "                    .plot(kind=\"bar\", figsize=(16, 9), legend=False, title=f\"Média de condenações por Juiz em crimes patrimoniais - de {MIN_DATE.year} a {MAX_DATE.year}\")\n",
    "ax.bar_label(ax.containers[0]);"
   ]
  },
  {
   "cell_type": "code",
   "execution_count": null,
   "metadata": {},
   "outputs": [],
   "source": [
    "df_judges_outros = df_judges[df_judges[\"crime_type\"] != \"Crime Patrimonial\"]\n",
    "df_judges_outros = df_judges_outros[[\"judge\", \"result_type\"]]\n",
    "ax = df_judges_outros.groupby(\"judge\") \\\n",
    "                    .mean() \\\n",
    "                    .multiply(100) \\\n",
    "                    .round() \\\n",
    "                    .sort_values(by=\"result_type\", ascending=False) \\\n",
    "                    .plot(kind=\"bar\", figsize=(16, 9), legend=False, title=f\"Média de condenações por Juiz em crimes não patrimoniais - de {MIN_DATE.year} a {MAX_DATE.year}\")\n",
    "ax.bar_label(ax.containers[0]);"
   ]
  }
 ],
 "metadata": {
  "interpreter": {
   "hash": "4ea9621914e82a746e01b8586a50a2dba8ce5b67d4e8475b4fa5aba88c3ce8cb"
  },
  "kernelspec": {
   "display_name": "Python 3.8.10 ('env': venv)",
   "language": "python",
   "name": "python3"
  },
  "language_info": {
   "codemirror_mode": {
    "name": "ipython",
    "version": 3
   },
   "file_extension": ".py",
   "mimetype": "text/x-python",
   "name": "python",
   "nbconvert_exporter": "python",
   "pygments_lexer": "ipython3",
   "version": "3.8.10"
  },
  "orig_nbformat": 4
 },
 "nbformat": 4,
 "nbformat_minor": 2
}
